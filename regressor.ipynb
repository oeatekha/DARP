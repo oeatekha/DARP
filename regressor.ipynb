{
 "cells": [
  {
   "cell_type": "code",
   "execution_count": 1,
   "metadata": {},
   "outputs": [],
   "source": [
    "# Regression Training Script\n",
    "#Import Data processing packages\n",
    "# might not need all of these but just to start (from demo)\n",
    "import pandas as pd\n",
    "import numpy as np\n",
    "#Import Data visualization packages\n",
    "import seaborn as sns\n",
    "import matplotlib.pyplot as plt \n",
    "\n",
    "#Import relevant scikit-learn packages\n",
    "# from sklearn.linear_model import LinearRegression\n",
    "# from sklearn.tree import DecisionTreeRegressor\n",
    "# from sklearn.ensemble import GradientBoostingRegressor, RandomForestRegressor, AdaBoostRegressor\n",
    "# from sklearn.gaussian_process import GaussianProcessRegressor\n",
    "# from sklearn.neural_network import MLPRegressor\n",
    "# from sklearn.metrics import mean_squared_error, mean_absolute_error\n",
    "# from sklearn.model_selection import KFold, train_test_split\n",
    "# from sklearn.neighbors import KNeighborsRegressor\n",
    "# from sklearn.preprocessing import MinMaxScaler\n",
    "# from sklearn.gaussian_process.kernels import DotProduct, WhiteKernel, RBF"
   ]
  },
  {
   "cell_type": "code",
   "execution_count": 6,
   "metadata": {},
   "outputs": [
    {
     "name": "stdout",
     "output_type": "stream",
     "text": [
      "Shape of image data:  (8,)\n"
     ]
    }
   ],
   "source": [
    "# Load data and images\n",
    "# import pickle\n",
    "# with open('map_dataset', 'rb') as f:\n",
    "#     x = pickle.load(f)\n",
    "# print(\"Dataset: \", x)\n",
    "# close()\n",
    "images = np.load('map_imgs.npy', allow_pickle=True)\n",
    "print('Shape of image data: ', images.shape)"
   ]
  },
  {
   "cell_type": "code",
   "execution_count": null,
   "metadata": {},
   "outputs": [],
   "source": [
    "# Training script here\n",
    "# TODO split data into train/test\n",
    "# KNN Regressor?\n",
    "# Plotting\n",
    "# Get performance"
   ]
  },
  {
   "cell_type": "markdown",
   "metadata": {},
   "source": []
  }
 ],
 "metadata": {
  "interpreter": {
   "hash": "edff8e2405bd54b0c8c111b4bab7f9b8e1ebf114b28fa6c81fa471b0b5420b2d"
  },
  "kernelspec": {
   "display_name": "Python 3.8.8 64-bit ('base': conda)",
   "name": "python3"
  },
  "language_info": {
   "codemirror_mode": {
    "name": "ipython",
    "version": 3
   },
   "file_extension": ".py",
   "mimetype": "text/x-python",
   "name": "python",
   "nbconvert_exporter": "python",
   "pygments_lexer": "ipython3",
   "version": "3.8.8"
  },
  "orig_nbformat": 4
 },
 "nbformat": 4,
 "nbformat_minor": 2
}
